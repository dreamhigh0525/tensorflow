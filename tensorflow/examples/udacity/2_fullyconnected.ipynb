{
  "worksheets": [
    {
      "cells": [
        {
          "metadata": {
            "id": "kR-4eNdK6lYS",
            "colab_type": "text"
          },
          "cell_type": "markdown",
          "source": "Deep Learning\n=============\n\nAssignment 2\n------------\n\nPreviously in `1_notmnist.ipynb`, we created a pickle with formatted datasets for training, development and testing on the [notMNIST dataset](http://yaroslavvb.blogspot.com/2011/09/notmnist-dataset.html).\n\nThe goal of this assignment is to progressively train deeper and more accurate models using TensorFlow."
        },
        {
          "metadata": {
            "id": "JLpLa8Jt7Vu4",
            "colab_type": "code",
            "colab": {
              "autoexec": {
                "startup": false,
                "wait_interval": 0
              }
            },
            "cellView": "both"
          },
          "cell_type": "code",
          "input": "# These are all the modules we'll be using later. Make sure you can import them\n# before proceeding further.\nimport cPickle as pickle\nimport numpy as np\nimport tensorflow as tf",
          "language": "python",
          "outputs": []
        },
        {
          "metadata": {
            "id": "1HrCK6e17WzV",
            "colab_type": "text"
          },
          "cell_type": "markdown",
          "source": "First reload the data we generated in `1_notmist.ipynb`."
        },
        {
          "metadata": {
            "id": "y3-cj1bpmuxc",
            "colab_type": "code",
            "colab": {
              "autoexec": {
                "startup": false,
                "wait_interval": 0
              },
              "output_extras": [
                {
                  "item_id": 1
                }
              ]
            },
            "cellView": "both",
            "executionInfo": {
              "elapsed": 19456,
              "status": "ok",
              "timestamp": 1449847956073,
              "user": {
                "color": "",
                "displayName": "",
                "isAnonymous": false,
                "isMe": true,
                "permissionId": "",
                "photoUrl": "",
                "sessionId": "0",
                "userId": ""
              },
              "user_tz": 480
            },
            "outputId": "0ddb1607-1fc4-4ddb-de28-6c7ab7fb0c33"
          },
          "cell_type": "code",
          "input": "pickle_file = 'notMNIST.pickle'\n\nwith open(pickle_file, 'rb') as f:\n  save = pickle.load(f)\n  train_dataset = save['train_dataset']\n  train_labels = save['train_labels']\n  valid_dataset = save['valid_dataset']\n  valid_labels = save['valid_labels']\n  test_dataset = save['test_dataset']\n  test_labels = save['test_labels']\n  del save  # hint to help gc free up memory\n  print 'Training set', train_dataset.shape, train_labels.shape\n  print 'Validation set', valid_dataset.shape, valid_labels.shape\n  print 'Test set', test_dataset.shape, test_labels.shape",
          "language": "python",
          "outputs": [
            {
              "output_type": "stream",
              "stream": "stdout",
              "text": "Training set (200000, 28, 28) (200000,)\nValidation set (10000, 28, 28) (10000,)\nTest set (18724, 28, 28) (18724,)\n"
            }
          ]
        },
        {
          "metadata": {
            "id": "L7aHrm6nGDMB",
            "colab_type": "text"
          },
          "cell_type": "markdown",
          "source": "Reformat into a shape that's more adapted to the models we're going to train:\n- data as a flat matrix,\n- labels as float 1-hot encodings."
        },
        {
          "metadata": {
            "id": "IRSyYiIIGIzS",
            "colab_type": "code",
            "colab": {
              "autoexec": {
                "startup": false,
                "wait_interval": 0
              },
              "output_extras": [
                {
                  "item_id": 1
                }
              ]
            },
            "cellView": "both",
            "executionInfo": {
              "elapsed": 19723,
              "status": "ok",
              "timestamp": 1449847956364,
              "user": {
                "color": "",
                "displayName": "",
                "isAnonymous": false,
                "isMe": true,
                "permissionId": "",
                "photoUrl": "",
                "sessionId": "0",
                "userId": ""
              },
              "user_tz": 480
            },
            "outputId": "2ba0fc75-1487-4ace-a562-cf81cae82793"
          },
          "cell_type": "code",
          "input": "image_size = 28\nnum_labels = 10\n\ndef reformat(dataset, labels):\n  dataset = dataset.reshape((-1, image_size * image_size)).astype(np.float32)\n  # Map 0 to [1.0, 0.0, 0.0 ...], 1 to [0.0, 1.0, 0.0 ...]\n  labels = (np.arange(num_labels) == labels[:,None]).astype(np.float32)\n  return dataset, labels\ntrain_dataset, train_labels = reformat(train_dataset, train_labels)\nvalid_dataset, valid_labels = reformat(valid_dataset, valid_labels)\ntest_dataset, test_labels = reformat(test_dataset, test_labels)\nprint 'Training set', train_dataset.shape, train_labels.shape\nprint 'Validation set', valid_dataset.shape, valid_labels.shape\nprint 'Test set', test_dataset.shape, test_labels.shape",
          "language": "python",
          "outputs": [
            {
              "output_type": "stream",
              "stream": "stdout",
              "text": "Training set (200000, 784) (200000, 10)\nValidation set (10000, 784) (10000, 10)\nTest set (18724, 784) (18724, 10)\n"
            }
          ]
        },
        {
          "metadata": {
            "id": "nCLVqyQ5vPPH",
            "colab_type": "text"
          },
          "cell_type": "markdown",
          "source": "We're first going to train a multinomial logistic regression using simple gradient descent.\n\nTensorFlow works like this:\n* First you describe the computation that you want to see performed: what the inputs, the variables, and the operations look like. These get created as nodes over a computation graph. This description is all contained within the block below:\n\n      with graph.as_default():\n          ...\n\n* Then you can run the operations on this graph as many times as you want by calling `session.run()`, providing it outputs to fetch from the graph that get returned. This runtime operation is all contained in the block below:\n\n      with tf.Session(graph=graph) as session:\n          ...\n\nLet's load all the data into TensorFlow and build the computation graph corresponding to our training:"
        },
        {
          "metadata": {
            "id": "Nfv39qvtvOl_",
            "colab_type": "code",
            "colab": {
              "autoexec": {
                "startup": false,
                "wait_interval": 0
              }
            },
            "cellView": "both"
          },
          "cell_type": "code",
          "input": "# With gradient descent training, even this much data is prohibitive.\n# Subset the training data for faster turnaround.\ntrain_subset = 10000\n\ngraph = tf.Graph()\nwith graph.as_default():\n\n  # Input data.\n  # Load the training, validation and test data into constants that are\n  # attached to the graph.\n  tf_train_dataset = tf.constant(train_dataset[:train_subset, :])\n  tf_train_labels = tf.constant(train_labels[:train_subset])\n  tf_valid_dataset = tf.constant(valid_dataset)\n  tf_test_dataset = tf.constant(test_dataset)\n  \n  # Variables.\n  # These are the parameters that we are going to be training. The weight\n  # matrix will be initialized using random valued following a (truncated)\n  # normal distribution. The biases get initialized to zero.\n  weights = tf.Variable(\n    tf.truncated_normal([image_size * image_size, num_labels]))\n  biases = tf.Variable(tf.zeros([num_labels]))\n  \n  # Training computation.\n  # We multiply the inputs with the weight matrix, and add biases. We compute\n  # the softmax and cross-entropy (it's one operation in TensorFlow, because\n  # it's very common, and it can be optimized). We take the average of this\n  # cross-entropy across all training examples: that's our loss.\n  logits = tf.matmul(tf_train_dataset, weights) + biases\n  loss = tf.reduce_mean(\n    tf.nn.softmax_cross_entropy_with_logits(logits, tf_train_labels))\n  \n  # Optimizer.\n  # We are going to find the minimum of this loss using gradient descent.\n  optimizer = tf.train.GradientDescentOptimizer(0.5).minimize(loss)\n  \n  # Predictions for the training, validation, and test data.\n  # These are not part of training, but merely here so that we can report\n  # accuracy figures as we train.\n  train_prediction = tf.nn.softmax(logits)\n  valid_prediction = tf.nn.softmax(\n    tf.matmul(tf_valid_dataset, weights) + biases)\n  test_prediction = tf.nn.softmax(tf.matmul(tf_test_dataset, weights) + biases)",
          "language": "python",
          "outputs": []
        },
        {
          "metadata": {
            "id": "KQcL4uqISHjP",
            "colab_type": "text"
          },
          "cell_type": "markdown",
          "source": "Let's run this computation and iterate:"
        },
        {
          "metadata": {
            "id": "z2cjdenH869W",
            "colab_type": "code",
            "colab": {
              "autoexec": {
                "startup": false,
                "wait_interval": 0
              },
              "output_extras": [
                {
                  "item_id": 9
                }
              ]
            },
            "cellView": "both",
            "executionInfo": {
              "elapsed": 57454,
              "status": "ok",
              "timestamp": 1449847994134,
              "user": {
                "color": "",
                "displayName": "",
                "isAnonymous": false,
                "isMe": true,
                "permissionId": "",
                "photoUrl": "",
                "sessionId": "0",
                "userId": ""
              },
              "user_tz": 480
            },
            "outputId": "4c037ba1-b526-4d8e-e632-91e2a0333267"
          },
          "cell_type": "code",
          "input": "num_steps = 801\n\ndef accuracy(predictions, labels):\n  return (100.0 * np.sum(np.argmax(predictions, 1) == np.argmax(labels, 1))\n          / predictions.shape[0])\n\nwith tf.Session(graph=graph) as session:\n  # This is a one-time operation which ensures the parameters get initialized as\n  # we described in the graph: random weights for the matrix, zeros for the\n  # biases. \n  tf.initialize_all_variables().run()\n  print 'Initialized'\n  for step in xrange(num_steps):\n    # Run the computations. We tell .run() that we want to run the optimizer,\n    # and get the loss value and the training predictions returned as numpy\n    # arrays.\n    _, l, predictions = session.run([optimizer, loss, train_prediction])\n    if (step % 100 == 0):\n      print 'Loss at step', step, ':', l\n      print 'Training accuracy: %.1f%%' % accuracy(\n        predictions, train_labels[:train_subset, :])\n      # Calling .eval() on valid_prediction is basically like calling run(), but\n      # just to get that one numpy array. Note that it recomputes all its graph\n      # dependencies.\n      print 'Validation accuracy: %.1f%%' % accuracy(\n        valid_prediction.eval(), valid_labels)\n  print 'Test accuracy: %.1f%%' % accuracy(test_prediction.eval(), test_labels)",
          "language": "python",
          "outputs": [
            {
              "output_type": "stream",
              "stream": "stdout",
              "text": "Initialized\nLoss at step 0 : 17.2939\nTraining accuracy: 10.8%\nValidation accuracy: 13.8%\nLoss at step 100 : 2.26903\nTraining accuracy: 72.3%\nValidation accuracy: 71.6%\nLoss at step 200 : 1.84895\nTraining accuracy: 74.9%\nValidation accuracy: 73.9%\nLoss at step 300 : 1.60701\nTraining accuracy: 76.0%\nValidation accuracy: 74.5%\nLoss at step 400 : 1.43912\nTraining accuracy: 76.8%\nValidation accuracy: 74.8%\nLoss at step 500 : 1.31349\nTraining accuracy: 77.5%\nValidation accuracy: 75.0%\nLoss at step 600 : 1.21501\nTraining accuracy: 78.1%\nValidation accuracy: 75.4%\nLoss at step 700 : 1.13515\nTraining accuracy: 78.6%\nValidation accuracy: 75.4%\nLoss at step 800 : 1.0687\nTraining accuracy: 79.2%\nValidation accuracy: 75.6%\nTest accuracy: 82.9%\n"
            }
          ]
        },
        {
          "metadata": {
            "id": "x68f-hxRGm3H",
            "colab_type": "text"
          },
          "cell_type": "markdown",
          "source": "Let's now switch to stochastic gradient descent training instead, which is much faster.\n\nThe graph will be similar, except that instead of holding all the training data into a constant node, we create a `Placeholder` node which will be fed actual data at every call of `sesion.run()`."
        },
        {
          "metadata": {
            "id": "qhPMzWYRGrzM",
            "colab_type": "code",
            "colab": {
              "autoexec": {
                "startup": false,
                "wait_interval": 0
              }
            },
            "cellView": "both"
          },
          "cell_type": "code",
          "input": "batch_size = 128\n\ngraph = tf.Graph()\nwith graph.as_default():\n\n  # Input data. For the training data, we use a placeholder that will be fed\n  # at run time with a training minibatch.\n  tf_train_dataset = tf.placeholder(tf.float32,\n                                    shape=(batch_size, image_size * image_size))\n  tf_train_labels = tf.placeholder(tf.float32, shape=(batch_size, num_labels))\n  tf_valid_dataset = tf.constant(valid_dataset)\n  tf_test_dataset = tf.constant(test_dataset)\n  \n  # Variables.\n  weights = tf.Variable(\n    tf.truncated_normal([image_size * image_size, num_labels]))\n  biases = tf.Variable(tf.zeros([num_labels]))\n  \n  # Training computation.\n  logits = tf.matmul(tf_train_dataset, weights) + biases\n  loss = tf.reduce_mean(\n    tf.nn.softmax_cross_entropy_with_logits(logits, tf_train_labels))\n  \n  # Optimizer.\n  optimizer = tf.train.GradientDescentOptimizer(0.5).minimize(loss)\n  \n  # Predictions for the training, validation, and test data.\n  train_prediction = tf.nn.softmax(logits)\n  valid_prediction = tf.nn.softmax(\n    tf.matmul(tf_valid_dataset, weights) + biases)\n  test_prediction = tf.nn.softmax(tf.matmul(tf_test_dataset, weights) + biases)",
          "language": "python",
          "outputs": []
        },
        {
          "metadata": {
            "id": "XmVZESmtG4JH",
            "colab_type": "text"
          },
          "cell_type": "markdown",
          "source": "Let's run it:"
        },
        {
          "metadata": {
            "id": "FoF91pknG_YW",
            "colab_type": "code",
            "colab": {
              "autoexec": {
                "startup": false,
                "wait_interval": 0
              },
              "output_extras": [
                {
                  "item_id": 6
                }
              ]
            },
            "cellView": "both",
            "executionInfo": {
              "elapsed": 66292,
              "status": "ok",
              "timestamp": 1449848003013,
              "user": {
                "color": "",
                "displayName": "",
                "isAnonymous": false,
                "isMe": true,
                "permissionId": "",
                "photoUrl": "",
                "sessionId": "0",
                "userId": ""
              },
              "user_tz": 480
            },
            "outputId": "d255c80e-954d-4183-ca1c-c7333ce91d0a"
          },
          "cell_type": "code",
          "input": "num_steps = 3001\n\nwith tf.Session(graph=graph) as session:\n  tf.initialize_all_variables().run()\n  print \"Initialized\"\n  for step in xrange(num_steps):\n    # Pick an offset within the training data, which has been randomized.\n    # Note: we could use better randomization across epochs.\n    offset = (step * batch_size) % (train_labels.shape[0] - batch_size)\n    # Generate a minibatch.\n    batch_data = train_dataset[offset:(offset + batch_size), :]\n    batch_labels = train_labels[offset:(offset + batch_size), :]\n    # Prepare a dictionary telling the session where to feed the minibatch.\n    # The key of the dictionary is the placeholder node of the graph to be fed,\n    # and the value is the numpy array to feed to it.\n    feed_dict = {tf_train_dataset : batch_data, tf_train_labels : batch_labels}\n    _, l, predictions = session.run(\n      [optimizer, loss, train_prediction], feed_dict=feed_dict)\n    if (step % 500 == 0):\n      print \"Minibatch loss at step\", step, \":\", l\n      print \"Minibatch accuracy: %.1f%%\" % accuracy(predictions, batch_labels)\n      print \"Validation accuracy: %.1f%%\" % accuracy(\n        valid_prediction.eval(), valid_labels)\n  print \"Test accuracy: %.1f%%\" % accuracy(test_prediction.eval(), test_labels)",
          "language": "python",
          "outputs": [
            {
              "output_type": "stream",
              "stream": "stdout",
              "text": "Initialized\nMinibatch loss at step 0 : 16.8091\nMinibatch accuracy: 12.5%\nValidation accuracy: 14.0%\nMinibatch loss at step 500 : 1.75256\nMinibatch accuracy: 77.3%\nValidation accuracy: 75.0%\nMinibatch loss at step 1000 : 1.32283\nMinibatch accuracy: 77.3%\nValidation accuracy: 76.6%\nMinibatch loss at step 1500 : 0.944533\nMinibatch accuracy: 83.6%\nValidation accuracy: 76.5%\nMinibatch loss at step 2000 : 1.03795\nMinibatch accuracy: 78.9%\nValidation accuracy: 77.8%\nMinibatch loss at step 2500 : 1.10219\nMinibatch accuracy: 80.5%\nValidation accuracy: 78.0%\nMinibatch loss at step 3000 : 0.758874\nMinibatch accuracy: 82.8%\nValidation accuracy: 78.8%\nTest accuracy: 86.1%\n"
            }
          ]
        },
        {
          "metadata": {
            "id": "7omWxtvLLxik",
            "colab_type": "text"
          },
          "cell_type": "markdown",
          "source": "---\nProblem\n-------\n\nTurn the logistic regression example with SGD into a 1-hidden layer neural network with rectified linear units (nn.relu()) and 1024 hidden nodes. This model should improve your validation / test accuracy.\n\n---"
        }
      ]
    }
  ],
  "metadata": {
    "name": "2_fullyconnected.ipynb",
    "colabVersion": "0.3.2",
    "colab_views": {},
    "colab_default_view": {}
  },
  "nbformat": 3,
  "nbformat_minor": 0
}