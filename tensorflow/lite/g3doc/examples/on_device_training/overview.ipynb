{
  "cells": [
    {
      "cell_type": "markdown",
      "metadata": {
        "id": "g_nWetWWd_ns"
      },
      "source": [
        "##### Copyright 2021 The TensorFlow Authors."
      ]
    },
    {
      "cell_type": "code",
      "execution_count": null,
      "metadata": {
        "cellView": "form",
        "id": "2pHVBk_seED1"
      },
      "outputs": [],
      "source": [
        "#@title Licensed under the Apache License, Version 2.0 (the \"License\");\n",
        "# you may not use this file except in compliance with the License.\n",
        "# You may obtain a copy of the License at\n",
        "#\n",
        "# https://www.apache.org/licenses/LICENSE-2.0\n",
        "#\n",
        "# Unless required by applicable law or agreed to in writing, software\n",
        "# distributed under the License is distributed on an \"AS IS\" BASIS,\n",
        "# WITHOUT WARRANTIES OR CONDITIONS OF ANY KIND, either express or implied.\n",
        "# See the License for the specific language governing permissions and\n",
        "# limitations under the License."
      ]
    },
    {
      "cell_type": "markdown",
      "metadata": {
        "id": "M7vSdG6sAIQn"
      },
      "source": [
        "# On-Device Training with TensorFlow Lite"
      ]
    },
    {
      "cell_type": "markdown",
      "metadata": {
        "id": "fwc5GKHBASdc"
      },
      "source": [
        "\u003ctable class=\"tfo-notebook-buttons\" align=\"left\"\u003e\n",
        "  \u003ctd\u003e\n",
        "    \u003ca target=\"_blank\" href=\"https://www.tensorflow.org/lite/examples/on_device_training/overview\"\u003e\u003cimg src=\"https://www.tensorflow.org/images/tf_logo_32px.png\" /\u003eView on TensorFlow.org\u003c/a\u003e\n",
        "  \u003c/td\u003e\n",
        "  \u003ctd\u003e\n",
        "    \u003ca target=\"_blank\" href=\"https://colab.research.google.com/github/tensorflow/tensorflow/blob/master/tensorflow/lite/g3doc/examples/on_device_training/overview.ipynb\"\u003e\u003cimg src=\"https://www.tensorflow.org/images/colab_logo_32px.png\" /\u003eRun in Google Colab\u003c/a\u003e\n",
        "  \u003c/td\u003e\n",
        "  \u003ctd\u003e\n",
        "    \u003ca target=\"_blank\" href=\"https://github.com/tensorflow/tensorflow/blob/master/tensorflow/lite/g3doc/examples/on_device_training/overview.ipynb\"\u003e\u003cimg src=\"https://www.tensorflow.org/images/GitHub-Mark-32px.png\" /\u003eView source on GitHub\u003c/a\u003e\n",
        "  \u003c/td\u003e\n",
        "  \u003ctd\u003e\n",
        "    \u003ca href=\"https://storage.googleapis.com/tensorflow_docs/tensorflow/tensorflow/lite/g3doc/examples/on_device_training/overview.ipynb\"\u003e\u003cimg src=\"https://www.tensorflow.org/images/download_logo_32px.png\" /\u003eDownload notebook\u003c/a\u003e\n",
        "  \u003c/td\u003e\n",
        "\u003c/table\u003e"
      ]
    },
    {
      "cell_type": "markdown",
      "metadata": {
        "id": "9ee074e4"
      },
      "source": [
        "When deploying TensorFlow Lite machine learning model to device or mobile app, you may want to enable the model to be improved or personalized based on input from the device or end user. Using on-device training techniques allows you to update a model *without* data leaving your users' devices, improving user privacy, and without requiring users to update the device software.\n",
        "\n",
        "For example, you may have a model in your mobile app that recognizes fashion items, but you want users to get improved recognition performance over time based on their interests. Enabling on-device training allows users who are interested in shoes to get better at recognizing a particular style of shoe or shoe brand the more often they use your app.\n",
        "\n",
        "This tutorial shows you how to construct a TensorFlow Lite model that can be incrementally trained and improved within an installed Android app.\n",
        "\n",
        "Note: The on-device training technique can be added to existing TensorFlow Lite implementations, provided the devices you are targeting support local file storage.\n"
      ]
    },
    {
      "cell_type": "markdown",
      "metadata": {
        "id": "UaWdLA3fQDK2"
      },
      "source": [
        "## Setup\n",
        "\n",
        "This tutorial uses Python to train and convert a TensorFlow model before incorporating it into an Android app. Get started by installing and importing the following packages."
      ]
    },
    {
      "cell_type": "code",
      "execution_count": null,
      "metadata": {
        "id": "9j4MGqyKQEo4",
        "outputId": "efe14d2f-ed36-483a-aee6-f3d8d3d5edee"
      },
      "outputs": [
        {
          "name": "stdout",
          "output_type": "stream",
          "text": [
            "TensorFlow version: 2.8.0\n"
          ]
        }
      ],
      "source": [
        "import matplotlib.pyplot as plt\n",
        "import numpy as np\n",
        "import tensorflow as tf\n",
        "\n",
        "print(\"TensorFlow version:\", tf.__version__)"
      ]
    },
    {
      "cell_type": "markdown",
      "metadata": {
        "id": "oOCyq3dTvfL6"
      },
      "source": [
        "Note: The On-Device Training APIs are available in TensorFlow version 2.7 and higher."
      ]
    },
    {
      "cell_type": "markdown",
      "metadata": {
        "id": "_omifE5JKpt4"
      },
      "source": [
        "## Classify images of clothing\n",
        "\n",
        "This example code uses the [Fashion MNIST dataset](https://keras.io/api/datasets/fashion_mnist/) to train a neural network model for classifying images of clothing. This dataset contains 60,000 small (28 x 28 pixel) grayscale images containing 10 different categories of fashion accessories, including dresses, shirts, and sandals.\n",
        "\n",
        "\u003cfigure\u003e\n",
        "  \u003cimg src=\"https://tensorflow.org/images/fashion-mnist-sprite.png\"\n",
        "       alt=\"Fashion MNIST images\"\u003e\n",
        "  \u003cfigcaption\u003e\u003cb\u003eFigure 1\u003c/b\u003e: \u003ca href=\"https://github.com/zalandoresearch/fashion-mnist\"\u003eFashion-MNIST samples\u003c/a\u003e (by Zalando, MIT License).\u003c/figcaption\u003e\n",
        "\u003c/figure\u003e\n",
        "\n",
        "You can explore this dataset in more depth in the [Keras classification tutorial](https://www.tensorflow.org/tutorials/keras/classification#import_the_fashion_mnist_dataset)."
      ]
    },
    {
      "cell_type": "markdown",
      "metadata": {
        "id": "FN2N6hPEP-Ay"
      },
      "source": [
        "## Build a model for on-device training\n",
        "\n",
        "TensorFlow Lite models typically have only a single exposed function method (or [signature](https://www.tensorflow.org/lite/guide/signatures)) that allows you to call the model to run an inference. For a model to be trained and used on a device, you must be able to perform several separate operations, including train, infer, save, and restore functions for the model. You can enable this functionality by first extending your TensorFlow model to have multiple functions, and then exposing those functions as signatures when you convert your model to the TensorFlow Lite model format.\n",
        "\n",
        "The code example below shows you how to add the following functions to a TensorFlow model:\n",
        "\n",
        "*   `train` function trains the model with training data.\n",
        "*   `infer` function invokes the inference.\n",
        "*   `save` function saves the trainable weights into the file system.\n",
        "*   `restore` function loads the trainable weights from the file system."
      ]
    },
    {
      "cell_type": "code",
      "execution_count": null,
      "metadata": {
        "id": "d8577c80"
      },
      "outputs": [],
      "source": [
        "IMG_SIZE = 28\n",
        "\n",
        "class Model(tf.Module):\n",
        "\n",
        "  def __init__(self):\n",
        "    self.model = tf.keras.Sequential([\n",
        "        tf.keras.layers.Flatten(input_shape=(IMG_SIZE, IMG_SIZE), name='flatten'),\n",
        "        tf.keras.layers.Dense(128, activation='relu', name='dense_1'),\n",
        "        tf.keras.layers.Dense(10, activation='softmax', name='dense_2')\n",
        "    ])\n",
        "\n",
        "    self.model.compile(\n",
        "        optimizer='sgd',\n",
        "        loss=tf.keras.losses.CategoricalCrossentropy(from_logits=True),\n",
        "        metrics=['accuracy'])\n",
        "    self._LOSS_FN = tf.keras.losses.CategoricalCrossentropy()\n",
        "    self._OPTIM = tf.optimizers.SGD()\n",
        "\n",
        "  # The `train` function takes a batch of input images and labels.\n",
        "  @tf.function(input_signature=[\n",
        "      tf.TensorSpec([None, IMG_SIZE, IMG_SIZE], tf.float32),\n",
        "      tf.TensorSpec([None, 10], tf.float32),\n",
        "  ])\n",
        "  def train(self, x, y):\n",
        "    with tf.GradientTape() as tape:\n",
        "      prediction = self.model(x)\n",
        "      loss = self._LOSS_FN(prediction, y)\n",
        "    gradients = tape.gradient(loss, self.model.trainable_variables)\n",
        "    self._OPTIM.apply_gradients(\n",
        "        zip(gradients, self.model.trainable_variables))\n",
        "    result = {\"loss\": loss}\n",
        "    for grad in gradients:\n",
        "      result[grad.name] = grad\n",
        "    return result\n",
        "\n",
        "  @tf.function(input_signature=[\n",
        "      tf.TensorSpec([None, IMG_SIZE, IMG_SIZE], tf.float32),\n",
        "  ])\n",
        "  def infer(self, x):\n",
        "    return {\n",
        "        \"output\": self.model(x)\n",
        "    }\n",
        "\n",
        "  @tf.function(input_signature=[tf.TensorSpec(shape=[], dtype=tf.string)])\n",
        "  def save(self, checkpoint_path):\n",
        "    tensor_names = [weight.name for weight in self.model.weights]\n",
        "    tensors_to_save = [weight.read_value() for weight in self.model.weights]\n",
        "    tf.raw_ops.Save(\n",
        "        filename=checkpoint_path, tensor_names=tensor_names,\n",
        "        data=tensors_to_save, name='save')\n",
        "    return {\n",
        "        \"checkpoint_path\": checkpoint_path\n",
        "    }\n",
        "\n",
        "  @tf.function(input_signature=[tf.TensorSpec(shape=[], dtype=tf.string)])\n",
        "  def restore(self, checkpoint_path):\n",
        "    restored_tensors = {}\n",
        "    for var in self.model.weights:\n",
        "      restored = tf.raw_ops.Restore(\n",
        "          file_pattern=checkpoint_path, tensor_name=var.name, dt=var.dtype,\n",
        "          name='restore')\n",
        "      var.assign(restored)\n",
        "      restored_tensors[var.name] = restored\n",
        "    return restored_tensors"
      ]
    },
    {
      "cell_type": "markdown",
      "metadata": {
        "id": "86tBMjoBnp6d"
      },
      "source": [
        "The `train` function in the code above uses the [GradientTape](https://www.tensorflow.org/api_docs/python/tf/GradientTape) class to record operations for automatic differentiation. For more information on how to use this class, see the [Introduction to gradients and automatic differentiation](https://www.tensorflow.org/guide/autodiff).\n",
        "\n",
        "Note: The weights generated by this model are serialized as a TensorFlow version one checkpoint file format."
      ]
    },
    {
      "cell_type": "markdown",
      "metadata": {
        "id": "a813419961ef"
      },
      "source": [
        "## Prepare the data\n",
        "\n",
        "Get the the Fashion MNIST dataset for training your model."
      ]
    },
    {
      "cell_type": "code",
      "execution_count": null,
      "metadata": {
        "id": "315b8b4dfc16"
      },
      "outputs": [],
      "source": [
        "fashion_mnist = tf.keras.datasets.fashion_mnist\n",
        "(train_images, train_labels), (test_images, test_labels) = fashion_mnist.load_data()"
      ]
    },
    {
      "cell_type": "markdown",
      "metadata": {
        "id": "2eDn-bRD30sw"
      },
      "source": [
        "### Preprocess the dataset\n",
        "\n",
        "Pixel values in this dataset are between 0 and 255, and must be normalized to a value between 0 and 1 for processing by the model. Divide the values by 255 to make this adjustment."
      ]
    },
    {
      "cell_type": "code",
      "execution_count": null,
      "metadata": {
        "id": "g0FqHC0yCg6n"
      },
      "outputs": [],
      "source": [
        "train_images = train_images / 255.0\n",
        "test_images = test_images / 255.0"
      ]
    },
    {
      "cell_type": "markdown",
      "metadata": {
        "id": "1bbee849ab73"
      },
      "source": [
        "Convert the data labels to categorical values by performing one-hot encoding."
      ]
    },
    {
      "cell_type": "code",
      "execution_count": null,
      "metadata": {
        "id": "Fmc7EgYO30sw"
      },
      "outputs": [],
      "source": [
        "train_labels = tf.keras.utils.to_categorical(train_labels)\n",
        "test_labels = tf.keras.utils.to_categorical(test_labels)"
      ]
    },
    {
      "cell_type": "markdown",
      "metadata": {
        "id": "79f5f372fb0e"
      },
      "source": [
        "Note: Make sure you preprocess your *training* and *testing* datasets in the same way, so that your testing accurately evaluate your model's performance."
      ]
    },
    {
      "cell_type": "markdown",
      "metadata": {
        "id": "xkuDUFNNyAVN"
      },
      "source": [
        "## Train the model\n",
        "\n",
        "Before converting and setting up your TensorFlow Lite model, complete the initial training of your model using the preprocessed dataset and the `train` signature method. The following code runs model training for 100 epochs, processing batches of 100 images at a time, and displaying the loss value after every 10 epochs. Since this training run is processing quite a bit of data, it may take a few minutes to finish.\n"
      ]
    },
    {
      "cell_type": "code",
      "execution_count": null,
      "metadata": {
        "id": "Diwn1MmkNVeX",
        "outputId": "b478ccac-2daf-45c8-d2f0-5b4c90ee60c4"
      },
      "outputs": [
        {
          "name": "stdout",
          "output_type": "stream",
          "text": [
            "Finished 10 epochs, current loss: 6.009137153625488\n",
            "Finished 20 epochs, current loss: 5.951833724975586\n",
            "Finished 30 epochs, current loss: 5.899169921875\n",
            "Finished 40 epochs, current loss: 5.837289810180664\n",
            "Finished 50 epochs, current loss: 5.809184551239014\n",
            "Finished 60 epochs, current loss: 5.765789031982422\n",
            "Finished 70 epochs, current loss: 5.694704055786133\n",
            "Finished 80 epochs, current loss: 5.667092800140381\n",
            "Finished 90 epochs, current loss: 5.664350509643555\n",
            "Finished 100 epochs, current loss: 5.654796123504639\n"
          ]
        },
        {
          "data": {
            "image/png": "[encoded data removed]",
            "text/plain": [
              "\u003cFigure size 600x400 with 1 Axes\u003e"
            ]
          },
          "metadata": {},
          "output_type": "display_data"
        }
      ],
      "source": [
        "NUM_EPOCHS = 100\n",
        "BATCH_SIZE = 100\n",
        "epochs = np.arange(1, NUM_EPOCHS + 1, 1)\n",
        "losses = np.zeros([NUM_EPOCHS])\n",
        "m = Model()\n",
        "\n",
        "for i in range(NUM_EPOCHS):\n",
        "  for batch_idx in range(len(train_images) // BATCH_SIZE):\n",
        "    batched_images = train_images[BATCH_SIZE*(batch_idx) : BATCH_SIZE * (batch_idx + 1)]\n",
        "    batched_labels = train_labels[BATCH_SIZE*(batch_idx) : BATCH_SIZE * (batch_idx + 1)]\n",
        "    result = m.train(\n",
        "        x=tf.constant(batched_images, shape=(BATCH_SIZE, IMG_SIZE, IMG_SIZE),\n",
        "                      dtype=tf.float32),\n",
        "        y=tf.constant(batched_labels, shape=(BATCH_SIZE, 10), dtype=tf.float32))\n",
        "  losses[i] = result['loss']\n",
        "  if (i + 1) % 10 == 0:\n",
        "    print('Finished {0} epochs, current loss: {1}'.format(i + 1, losses[i]))\n",
        "\n",
        "# Save the trained weights to a checkpoint.\n",
        "m.save('/tmp/model.ckpt')\n",
        "\n",
        "plt.plot(epochs, losses)\n",
        "plt.show()"
      ]
    },
    {
      "cell_type": "markdown",
      "metadata": {
        "id": "LaMMDLLewAaX"
      },
      "source": [
        "Note: You should complete initial training of your model before converting it to TensorFlow Lite format, so that the model has an initial set of weights, and is able to perform reasonable inferences *before* you start collecting data and conducting training runs on the device."
      ]
    },
    {
      "cell_type": "markdown",
      "metadata": {
        "id": "A8YUTIvzMVw5"
      },
      "source": [
        "## Convert model to TensorFlow Lite format\n",
        "\n",
        "After you have extended your TensorFlow model to enable additional functions for on-device training and completed initial training of the model, you can convert it to TensorFlow Lite format. The following code converts and saves your model to that format, including the set of signatures that you use with the TensorFlow Lite model on a device: `train, infer, save, restore`."
      ]
    },
    {
      "cell_type": "code",
      "execution_count": null,
      "metadata": {
        "id": "WwsDUEKFMYtq"
      },
      "outputs": [],
      "source": [
        "SAVED_MODEL_DIR = \"saved_model\"\n",
        "m = Model()\n",
        "tf.saved_model.save(\n",
        "    m,\n",
        "    SAVED_MODEL_DIR,\n",
        "    signatures={\n",
        "        'train':\n",
        "            m.train.get_concrete_function(),\n",
        "        'infer':\n",
        "            m.infer.get_concrete_function(),\n",
        "        'save':\n",
        "            m.save.get_concrete_function(),\n",
        "        'restore':\n",
        "            m.restore.get_concrete_function(),\n",
        "    })\n",
        "\n",
        "# Convert the model\n",
        "converter = tf.lite.TFLiteConverter.from_saved_model(SAVED_MODEL_DIR)\n",
        "converter.target_spec.supported_ops = [\n",
        "    tf.lite.OpsSet.TFLITE_BUILTINS,  # enable TensorFlow Lite ops.\n",
        "    tf.lite.OpsSet.SELECT_TF_OPS  # enable TensorFlow ops.\n",
        "]\n",
        "converter.experimental_enable_resource_variables = True\n",
        "tflite_model = converter.convert()"
      ]
    },
    {
      "cell_type": "markdown",
      "metadata": {
        "id": "GJSOtPISKSn2"
      },
      "source": [
        "### Setup the TensorFlow Lite signatures\n",
        "\n",
        "The TensorFlow Lite model you saved in the previous step contains several function signatures. You can access them through the `tf.lite.Interpreter` class and invoke each `restore`, `train`, `save`, and `infer` signature separately."
      ]
    },
    {
      "cell_type": "code",
      "execution_count": null,
      "metadata": {
        "id": "qNX2vqXd2-HM"
      },
      "outputs": [],
      "source": [
        "interpreter = tf.lite.Interpreter(model_content=tflite_model)\n",
        "\n",
        "train = interpreter.get_signature_runner(\"train\")\n",
        "infer = interpreter.get_signature_runner(\"infer\")\n",
        "save = interpreter.get_signature_runner(\"save\")\n",
        "restore = interpreter.get_signature_runner(\"restore\")"
      ]
    },
    {
      "cell_type": "markdown",
      "metadata": {
        "id": "7a5f73c8c5d6"
      },
      "source": [
        "## Retrain the model on a device\n",
        "\n",
        "After converting your model to TensorFlow Lite and deploying it with your app, you can retrain the model on a device using new data and the `train` signature method of your model. Each training run generates a new set of weights that you can save for re-use and further improvement of the model, as shown in the next section.\n",
        "\n",
        "Note: Since training tasks are resource intensive, you should consider performing them when users are not actively interacting with the device, and as a background process. Consider using the [WorkManager](https://developer.android.com/topic/libraries/architecture/workmanager) API to schedule model retraining as an asynchronous task.\n",
        "\n",
        "On Android, you can perform on-device training with TensorFlow Lite using either Java or C++ APIs. In Java, use the `Interpreter` class to load a model and drive model training tasks. The following example shows how to run the training procedure using the `runSignature` method:\n",
        "\n",
        "```Java\n",
        "try (Interpreter interpreter = new Interpreter(modelBuffer)) {\n",
        "    int NUM_EPOCHS = 100;\n",
        "    int BATCH_SIZE = 100;\n",
        "    int IMG_HEIGHT = 28;\n",
        "    int IMG_WIDTH = 28;\n",
        "    int NUM_TRAININGS = 60000;\n",
        "    int NUM_BATCHES = NUM_TRAININGS / BATCH_SIZE;\n",
        "\n",
        "    List\u003cFloatBuffer\u003e trainImageBatches = new ArrayList\u003c\u003e(NUM_BATCHES);\n",
        "    List\u003cFloatBuffer\u003e trainLabelBatches = new ArrayList\u003c\u003e(NUM_BATCHES);\n",
        "\n",
        "    // Prepare training batches.\n",
        "    for (int i = 0; i \u003c NUM_BATCHES; ++i) {\n",
        "        FloatBuffer trainImages = FloatBuffer.allocateDirect(BATCH_SIZE * IMG_HEIGHT * IMG_WIDTH).order(ByteOrder.nativeOrder());\n",
        "        FloatBuffer trainLabels = FloatBuffer.allocateDirect(BATCH_SIZE * 10).order(ByteOrder.nativeOrder());\n",
        "\n",
        "        // Fill the data values...\n",
        "        trainImageBatches.add(trainImages.rewind());\n",
        "        trainImageLabels.add(trainLabels.rewind());\n",
        "    }\n",
        "\n",
        "    // Run training for a few steps.\n",
        "    float[] losses = new float[NUM_EPOCHS];\n",
        "    for (int epoch = 0; epoch \u003c NUM_EPOCHS; ++epoch) {\n",
        "        for (int batchIdx = 0; batchIdx \u003c NUM_BATCHES; ++batchIdx) {\n",
        "            Map\u003cString, Object\u003e inputs = new HashMap\u003c\u003e();\n",
        "            inputs.put(\"x\", trainImageBatches.get(batchIdx));\n",
        "            inputs.put(\"y\", trainLabelBatches.get(batchIdx));\n",
        "\n",
        "            Map\u003cString, Object\u003e outputs = new HashMap\u003c\u003e();\n",
        "            FloatBuffer loss = FloatBuffer.allocate(1);\n",
        "            outputs.put(\"loss\", loss);\n",
        "\n",
        "            interpreter.runSignature(inputs, outputs, \"train\");\n",
        "\n",
        "            // Record the last loss.\n",
        "            if (batchIdx == NUM_BATCHES - 1) losses[epoch] = loss.get(0);\n",
        "        }\n",
        "\n",
        "        // Print the loss output for every 10 epochs.\n",
        "        if ((epoch + 1) % 10 == 0) {\n",
        "            System.out.println(\n",
        "              \"Finished \" + (epoch + 1) + \" epochs, current loss: \" + loss.get(0));\n",
        "        }\n",
        "    }\n",
        "\n",
        "    // ...\n",
        "}\n",
        "```\n",
        "\n",
        "You can see a complete code example of model retraining inside an Android app in the [model personalization demo app](https://github.com/tensorflow/examples/blob/master/lite/examples/model_personalization/android/transfer_api/src/main/java/org/tensorflow/lite/examples/transfer/api/LiteMultipleSignatureModel.java)."
      ]
    },
    {
      "cell_type": "markdown",
      "metadata": {
        "id": "nG6tKCGZFVdi"
      },
      "source": [
        "To continue training in TensorFlow Lite, let's first load back the checkpoint produced in the previous training step:"
      ]
    },
    {
      "cell_type": "code",
      "execution_count": null,
      "metadata": {
        "id": "gjCwJNqFFg0p",
        "outputId": "57c534ba-06cb-4e26-cd25-0f478bf582f7"
      },
      "outputs": [
        {
          "data": {
            "text/plain": [
              "{'dense_1/bias:0': array([-7.67073184e-02, -1.21641919e-01,  4.14139330e-02, -2.90217489e-01,\n",
              "        -4.34946269e-01, -1.53480902e-01,  2.02373281e-01,  4.13616449e-01,\n",
              "         2.50497848e-01,  3.43462646e-01, -3.96950319e-02,  1.52519522e-02,\n",
              "         2.49562711e-02, -1.55837715e-01, -3.16922516e-01, -5.62852323e-02,\n",
              "        -1.76316097e-01,  2.87876248e-01,  4.48857918e-02, -3.90259027e-02,\n",
              "        -2.69743860e-01, -4.55486029e-01,  2.64676839e-01,  1.04185253e-01,\n",
              "         2.97393054e-02, -3.33435744e-01, -3.89613062e-02, -2.91077465e-01,\n",
              "         7.05280155e-02,  3.18744779e-02, -1.16621424e-02,  3.46110873e-02,\n",
              "         2.70473305e-03, -1.98793784e-01, -1.23570330e-01,  1.16852365e-01,\n",
              "        -2.23538131e-01,  4.12918150e-01, -3.03259581e-01, -1.99832648e-01,\n",
              "         1.52513504e-01,  3.15144747e-01,  3.00966620e-01, -1.00083448e-01,\n",
              "         9.55451950e-02, -1.57265306e-01,  3.52542669e-01,  1.29614398e-01,\n",
              "         3.26297469e-02, -3.68497908e-01,  1.42719388e-01,  2.72650450e-01,\n",
              "         2.69632284e-02,  1.37559623e-01,  2.46696085e-01,  1.71969056e-01,\n",
              "         1.19491518e-01, -1.31593585e-01, -1.63813666e-01,  7.23824799e-02,\n",
              "         1.61473617e-01,  5.33181906e-01, -2.75753364e-02,  4.44153160e-01,\n",
              "         8.46541375e-02,  3.36195767e-01,  3.26056778e-02,  3.92714828e-01,\n",
              "         3.89477015e-02, -3.28640640e-01,  9.64739323e-02, -1.01042725e-02,\n",
              "         2.30138421e-01, -4.07512598e-02, -6.15786470e-04, -1.46631449e-02,\n",
              "        -1.36841565e-01,  1.49732353e-02, -1.89761370e-01, -1.26753841e-02,\n",
              "         4.88439389e-02,  4.62675467e-02, -1.90456375e-01, -5.31349368e-02,\n",
              "         3.48409154e-02,  1.93095192e-01, -4.83356506e-01, -2.59570003e-01,\n",
              "         7.41846859e-02,  9.38728079e-03, -3.04004701e-04, -1.36721238e-01,\n",
              "        -1.16710924e-02, -2.00157687e-02, -7.50867277e-02, -3.15536827e-01,\n",
              "         4.39007461e-01,  4.55190897e-01, -1.07847728e-01, -8.64643753e-02,\n",
              "        -1.01913996e-02,  9.17089507e-02,  1.69289440e-01,  1.00701176e-01,\n",
              "        -9.03776381e-03,  2.51386195e-01,  1.40138015e-01,  3.12402308e-01,\n",
              "         6.00705966e-02, -7.93265551e-02, -4.15610790e-01,  1.43614545e-01,\n",
              "         4.35782447e-02, -9.56265163e-03, -2.26040453e-01,  5.05020507e-02,\n",
              "        -9.90978070e-03,  2.14746892e-01, -1.18627608e-01,  1.22824619e-02,\n",
              "         1.98436931e-01,  1.31338120e-01,  9.98383909e-02, -1.14558823e-02,\n",
              "         5.15056774e-02, -3.36984848e-03, -1.63100529e-02,  8.35391134e-02],\n",
              "       dtype=float32),\n",
              " 'dense_1/kernel:0': array([[ 0.02093004, -0.06344204,  0.00277872, ..., -0.00021458,\n",
              "         -0.06049109,  0.03728996],\n",
              "        [ 0.03705189,  0.04696848,  0.06514321, ...,  0.05242993,\n",
              "          0.01620064,  0.02033125],\n",
              "        [ 0.07786449, -0.030255  ,  0.07235963, ..., -0.00665735,\n",
              "          0.02599101, -0.04836893],\n",
              "        ...,\n",
              "        [-0.00411804,  0.0267068 ,  0.02204224, ..., -0.07286698,\n",
              "         -0.06099217, -0.01177335],\n",
              "        [ 0.02460986,  0.01525712, -0.01274556, ...,  0.07480299,\n",
              "          0.05886368, -0.03610951],\n",
              "        [ 0.01595567, -0.03645648,  0.03281055, ..., -0.04087327,\n",
              "         -0.06164488,  0.02983134]], dtype=float32),\n",
              " 'dense_2/bias:0': array([ 0.17403616, -0.21789859, -0.05201611,  0.32887268, -0.34431872,\n",
              "         0.5943497 , -0.01262981,  0.16121244, -0.05095961, -0.58063805],\n",
              "       dtype=float32),\n",
              " 'dense_2/kernel:0': array([[-0.5706187 ,  0.22103083, -0.20097178, ..., -0.7579967 ,\n",
              "          0.11828423, -0.2794073 ],\n",
              "        [ 0.02920151, -0.17417166, -0.0385471 , ..., -0.8737432 ,\n",
              "         -0.13760662,  0.41177538],\n",
              "        [ 0.25003332,  0.03562389, -0.10078474, ..., -0.1751328 ,\n",
              "         -0.03559012, -0.07295281],\n",
              "        ...,\n",
              "        [-0.13618511, -0.13016236, -0.12449092, ...,  0.1511517 ,\n",
              "          0.17886253, -0.04126478],\n",
              "        [-0.19565038,  0.14290941,  0.12058044, ..., -0.10880192,\n",
              "          0.11445104, -0.19768406],\n",
              "        [-0.7715236 , -0.00254173, -0.0163954 , ..., -0.05197521,\n",
              "         -0.1495111 , -0.1617497 ]], dtype=float32)}"
            ]
          },
          "execution_count": 40,
          "metadata": {},
          "output_type": "execute_result"
        }
      ],
      "source": [
        "restore(checkpoint_path=np.array(\"/tmp/model.ckpt\", dtype=np.string_))"
      ]
    },
    {
      "cell_type": "markdown",
      "metadata": {
        "id": "HuBlL9z5GASQ"
      },
      "source": [
        "Run training for a few epochs to improve or personalize the model. In practice, you would run this additional training using data collected on the device. For simplicity, this example uses the same training data as the previous training step."
      ]
    },
    {
      "cell_type": "code",
      "execution_count": null,
      "metadata": {
        "id": "pjQ5xrhyGcIQ",
        "outputId": "cf665d5f-0808-4823-ad74-6031a7824d53"
      },
      "outputs": [
        {
          "name": "stdout",
          "output_type": "stream",
          "text": [
            "Finished 1 epochs, current loss: 5.6542158126831055\n",
            "Finished 2 epochs, current loss: 5.654355049133301\n",
            "Finished 3 epochs, current loss: 5.653238296508789\n",
            "Finished 4 epochs, current loss: 5.6533918380737305\n",
            "Finished 5 epochs, current loss: 5.65273904800415\n",
            "Finished 6 epochs, current loss: 5.651922702789307\n",
            "Finished 7 epochs, current loss: 5.6514458656311035\n",
            "Finished 8 epochs, current loss: 5.6505255699157715\n",
            "Finished 9 epochs, current loss: 5.649590492248535\n",
            "Finished 10 epochs, current loss: 5.649048328399658\n"
          ]
        },
        {
          "data": {
            "image/png": "[encoded data removed]",
            "text/plain": [
              "\u003cFigure size 600x400 with 1 Axes\u003e"
            ]
          },
          "metadata": {},
          "output_type": "display_data"
        }
      ],
      "source": [
        "NUM_EPOCHS = 10\n",
        "BATCH_SIZE = 100\n",
        "epochs = np.arange(1, NUM_EPOCHS + 1, 1)\n",
        "losses = np.zeros([NUM_EPOCHS])\n",
        "m = Model()\n",
        "\n",
        "for i in range(NUM_EPOCHS):\n",
        "  for batch_idx in range(len(train_images) // BATCH_SIZE):\n",
        "    batched_images = train_images[BATCH_SIZE*(batch_idx) : BATCH_SIZE * (batch_idx + 1)]\n",
        "    batched_labels = train_labels[BATCH_SIZE*(batch_idx) : BATCH_SIZE * (batch_idx + 1)]\n",
        "    result = train(\n",
        "        x=tf.constant(batched_images, shape=(BATCH_SIZE, IMG_SIZE, IMG_SIZE),\n",
        "                      dtype=tf.float32),\n",
        "        y=tf.constant(batched_labels, shape=(BATCH_SIZE, 10), dtype=tf.float32))\n",
        "  losses[i] = result['loss']\n",
        "  print('Finished {0} epochs, current loss: {1}'.format(i + 1, losses[i]))\n",
        "\n",
        "plt.plot(epochs, losses)\n",
        "plt.show()"
      ]
    },
    {
      "cell_type": "markdown",
      "metadata": {
        "id": "UDIi0_RlPb2n"
      },
      "source": [
        "## Save the trained weights\n",
        "\n",
        "When you complete a training run on a device, the model updates the set of weights it is using in memory. Using the `save` signature method you created in your TensorFlow Lite model, you can save these weights to a checkpoint file for later reuse and improve your model."
      ]
    },
    {
      "cell_type": "code",
      "execution_count": null,
      "metadata": {
        "id": "7c3d3cc5f171",
        "outputId": "1ffacb33-b209-4a8f-e914-dcc5bfb4b628"
      },
      "outputs": [
        {
          "data": {
            "text/plain": [
              "{'checkpoint_path': array(b'/tmp/model.ckpt', dtype=object)}"
            ]
          },
          "execution_count": 42,
          "metadata": {},
          "output_type": "execute_result"
        }
      ],
      "source": [
        "save(checkpoint_path=np.array(\"/tmp/model.ckpt\", dtype=np.string_))"
      ]
    },
    {
      "cell_type": "markdown",
      "metadata": {
        "id": "vvlZN-rhR_Ag"
      },
      "source": [
        "In your Android application, you can store the generated weights as a checkpoint file in the internal storage space allocated for your app.\n",
        "\n",
        "```Java\n",
        "try (Interpreter interpreter = new Interpreter(modelBuffer)) {\n",
        "    // Conduct the training jobs.\n",
        "\n",
        "    // Export the trained weights as a checkpoint file.\n",
        "    File outputFile = new File(getFilesDir(), \"checkpoint.ckpt\");\n",
        "    Map\u003cString, Object\u003e inputs = new HashMap\u003c\u003e();\n",
        "    inputs.put(\"checkpoint_path\", outputFile.getAbsolutePath());\n",
        "    Map\u003cString, Object\u003e outputs = new HashMap\u003c\u003e();\n",
        "    interpreter.runSignature(inputs, outputs, \"save\");\n",
        "}\n",
        "```"
      ]
    },
    {
      "cell_type": "markdown",
      "metadata": {
        "id": "SSDydMyOQfL5"
      },
      "source": [
        "## Restore the trained weights\n",
        "\n",
        "After you save a checkpoint file, you can restore it using the `restore` signature method. Loading this additional weighting data into your model allows you to potentially improve performance for individual users or create personalized models based on individual usage."
      ]
    },
    {
      "cell_type": "code",
      "execution_count": null,
      "metadata": {
        "id": "5yIZoLveRZgp",
        "outputId": "6f0283a2-ea28-41d1-bf91-3857d7d9097c"
      },
      "outputs": [
        {
          "data": {
            "text/plain": [
              "{'dense_1/bias:0': array([-8.61379430e-02, -1.36635631e-01,  4.30409200e-02, -2.94062406e-01,\n",
              "        -4.39533353e-01, -1.61162630e-01,  2.06874669e-01,  4.19755787e-01,\n",
              "         2.48541296e-01,  3.40482622e-01, -4.23337668e-02,  1.23906182e-02,\n",
              "         2.73789577e-02, -1.56342611e-01, -3.35422635e-01, -5.26740849e-02,\n",
              "        -1.74929649e-01,  2.87300557e-01,  3.72284725e-02, -4.43669409e-02,\n",
              "        -2.76613057e-01, -4.61370379e-01,  2.70024896e-01,  9.93161872e-02,\n",
              "         3.17382663e-02, -3.32814693e-01, -4.42167781e-02, -3.04149359e-01,\n",
              "         6.87476844e-02,  2.91295443e-02, -1.16239423e-02,  3.40433791e-02,\n",
              "         3.79291270e-03, -2.01377213e-01, -1.31028414e-01,  1.10448591e-01,\n",
              "        -2.25179851e-01,  4.11831915e-01, -3.04769337e-01, -2.04285771e-01,\n",
              "         1.66496366e-01,  3.11328828e-01,  3.05860877e-01, -9.03359428e-02,\n",
              "         9.87995192e-02, -1.55597150e-01,  3.65341395e-01,  1.36061460e-01,\n",
              "         3.50002199e-02, -3.86255354e-01,  1.56224608e-01,  2.81186610e-01,\n",
              "         3.40695567e-02,  1.46951646e-01,  2.53533721e-01,  1.76614806e-01,\n",
              "         1.12886965e-01, -1.37571767e-01, -1.80490255e-01,  5.99579848e-02,\n",
              "         1.64817944e-01,  5.65163195e-01, -2.80971918e-02,  4.51668948e-01,\n",
              "         8.79437178e-02,  3.39676052e-01,  3.48729901e-02,  3.93904805e-01,\n",
              "         4.83267307e-02, -3.31148326e-01,  9.71089453e-02, -1.01981498e-02,\n",
              "         2.34710976e-01, -4.14112695e-02,  3.60449223e-04, -1.38507308e-02,\n",
              "        -1.39980972e-01,  5.05261915e-03, -1.95554510e-01, -1.26979128e-02,\n",
              "         4.75965291e-02,  3.24146822e-02, -1.96471944e-01, -5.58585487e-02,\n",
              "         3.30154486e-02,  1.97923154e-01, -4.89876628e-01, -2.66257346e-01,\n",
              "         7.51771331e-02,  6.97124191e-03, -2.41389396e-04, -1.34414747e-01,\n",
              "        -1.16782216e-02, -1.99998617e-02, -7.33832195e-02, -3.17755818e-01,\n",
              "         4.43391174e-01,  4.61285084e-01, -1.14823796e-01, -8.33843499e-02,\n",
              "        -1.03156138e-02,  9.37729031e-02,  1.71376958e-01,  1.09402396e-01,\n",
              "        -9.80031118e-03,  2.52430409e-01,  1.39142230e-01,  3.12260568e-01,\n",
              "         5.60285412e-02, -7.78009742e-02, -4.20839638e-01,  1.46650046e-01,\n",
              "         5.02209105e-02, -1.65449344e-02, -2.31026947e-01,  4.76942025e-02,\n",
              "        -9.91276652e-03,  2.14476556e-01, -1.17310226e-01,  3.25387083e-02,\n",
              "         2.03948960e-01,  1.37504786e-01,  9.40428376e-02, -1.14569580e-02,\n",
              "         5.81016913e-02, -3.54794553e-03, -1.62604805e-02,  8.76032636e-02],\n",
              "       dtype=float32),\n",
              " 'dense_1/kernel:0': array([[ 0.0209299 , -0.06344204,  0.00277872, ..., -0.00021458,\n",
              "         -0.06049109,  0.03729003],\n",
              "        [ 0.03705242,  0.04696848,  0.06514321, ...,  0.05242993,\n",
              "          0.01620064,  0.02033134],\n",
              "        [ 0.07786088, -0.03025506,  0.07236017, ..., -0.00665735,\n",
              "          0.02599101, -0.04839775],\n",
              "        ...,\n",
              "        [-0.00464657,  0.0266066 ,  0.02190115, ..., -0.07283289,\n",
              "         -0.06099217, -0.012019  ],\n",
              "        [ 0.02377901,  0.01525712, -0.01274261, ...,  0.07480299,\n",
              "          0.05886368, -0.03621945],\n",
              "        [ 0.01591767, -0.03645648,  0.03281464, ..., -0.04087327,\n",
              "         -0.06164488,  0.0298573 ]], dtype=float32),\n",
              " 'dense_2/bias:0': array([ 0.17037725, -0.22025874, -0.05210603,  0.33427325, -0.3439995 ,\n",
              "         0.5915224 , -0.01238881,  0.16692373, -0.05103152, -0.5832951 ],\n",
              "       dtype=float32),\n",
              " 'dense_2/kernel:0': array([[-0.58560854,  0.22957753, -0.2009533 , ..., -0.7760691 ,\n",
              "          0.11828277, -0.29097608],\n",
              "        [ 0.0285041 , -0.17422798, -0.03855472, ..., -0.91597855,\n",
              "         -0.13760991,  0.4436695 ],\n",
              "        [ 0.25559434,  0.03508702, -0.10079396, ..., -0.17506872,\n",
              "         -0.035602  , -0.07269247],\n",
              "        ...,\n",
              "        [-0.13631049, -0.13071294, -0.12449102, ...,  0.15115076,\n",
              "          0.17886223, -0.04123615],\n",
              "        [-0.19577467,  0.14304623,  0.12057992, ..., -0.10881419,\n",
              "          0.11445075, -0.19772694],\n",
              "        [-0.8045735 , -0.00519833, -0.01640905, ..., -0.05033771,\n",
              "         -0.14952046, -0.17301974]], dtype=float32)}"
            ]
          },
          "execution_count": 44,
          "metadata": {},
          "output_type": "execute_result"
        }
      ],
      "source": [
        "another_interpreter = tf.lite.Interpreter(model_content=tflite_model)\n",
        "\n",
        "train = another_interpreter.get_signature_runner(\"train\")\n",
        "infer = another_interpreter.get_signature_runner(\"infer\")\n",
        "save = another_interpreter.get_signature_runner(\"save\")\n",
        "restore = another_interpreter.get_signature_runner(\"restore\")\n",
        "\n",
        "# Restore the trained weights from /tmp/model.ckpt\n",
        "restore(checkpoint_path=np.array(\"/tmp/model.ckpt\", dtype=np.string_))"
      ]
    },
    {
      "cell_type": "markdown",
      "metadata": {
        "id": "cAo-3Eg7oGH7"
      },
      "source": [
        "Note: Loading the saved weights from the checkpoint can take time, based on the number of variables in the model and the size of the checkpoint file.\n"
      ]
    },
    {
      "cell_type": "markdown",
      "metadata": {
        "id": "v9I_-gjdSnGn"
      },
      "source": [
        "In your Android app, you can restore the serialized, trained weights from the checkpoint file you stored earlier.\n",
        "\n",
        "```Java\n",
        "try (Interpreter anotherInterpreter = new Interpreter(modelBuffer)) {\n",
        "    // Load the trained weights from the checkpoint file.\n",
        "    File outputFile = new File(getFilesDir(), \"checkpoint.ckpt\");\n",
        "    Map\u003cString, Object\u003e inputs = new HashMap\u003c\u003e();\n",
        "    inputs.put(\"checkpoint_path\", outputFile.getAbsolutePath());\n",
        "    Map\u003cString, Object\u003e outputs = new HashMap\u003c\u003e();\n",
        "    anotherInterpreter.runSignature(inputs, outputs, \"restore\");\n",
        "}\n",
        "```\n",
        "\n",
        "Note: When your application restarts, you should reload your trained weights prior to running new inferences."
      ]
    },
    {
      "cell_type": "markdown",
      "metadata": {
        "id": "zjcrv57DSkz2"
      },
      "source": [
        "## Run Inference using trained weights\n",
        "\n",
        "Once you have loaded previously saved weights from a checkpoint file, running the `infer` method uses those weights with your original model to improve predictions. After loading the saved weights, you can use the `infer` signature method as shown below.\n",
        "\n",
        "Note: Loading the saved weights is not required to run an inference, but running in that configuration produces predictions using the originally trained model, without improvements."
      ]
    },
    {
      "cell_type": "code",
      "execution_count": null,
      "metadata": {
        "id": "_ROmlpHWS0nX"
      },
      "outputs": [],
      "source": [
        "infer = interpreter.get_signature_runner(\"infer\")\n",
        "result = infer(\n",
        "    x=tf.constant(test_images, shape=(len(test_images), IMG_SIZE, IMG_SIZE), dtype=tf.float32))\n",
        "result_labels = np.argmax(result[\"output\"], axis=1)"
      ]
    },
    {
      "cell_type": "markdown",
      "metadata": {
        "id": "fGPtqeVULZui"
      },
      "source": [
        "Plot the predicted labels."
      ]
    },
    {
      "cell_type": "code",
      "execution_count": null,
      "metadata": {
        "id": "GHbRasdfasd4",
        "outputId": "0a44feff-ecfd-4e49-8dbf-6686954595be"
      },
      "outputs": [
        {
          "data": {
            "image/png": "[encoded data removed]",
            "text/plain": [
              "\u003cFigure size 1000x1000 with 25 Axes\u003e"
            ]
          },
          "metadata": {},
          "output_type": "display_data"
        }
      ],
      "source": [
        "class_names = ['T-shirt/top', 'Trouser', 'Pullover', 'Dress', 'Coat',\n",
        "               'Sandal', 'Shirt', 'Sneaker', 'Bag', 'Ankle boot']\n",
        "\n",
        "def plot(images, labels):\n",
        "  plt.figure(figsize=(10,10))\n",
        "  for i in range(25):\n",
        "      plt.subplot(5,5,i+1)\n",
        "      plt.xticks([])\n",
        "      plt.yticks([])\n",
        "      plt.grid(False)\n",
        "      plt.imshow(images[i], cmap=plt.cm.binary)\n",
        "      plt.xlabel(class_names[labels[i]])\n",
        "  plt.show()\n",
        "\n",
        "plot(test_images, result_labels)"
      ]
    },
    {
      "cell_type": "markdown",
      "metadata": {
        "id": "eijDL3jNS6WI"
      },
      "source": [
        "In your Android application, after restoring the trained weights, run the inferences based on the loaded data.\n",
        "\n",
        "```Java\n",
        "try (Interpreter anotherInterpreter = new Interpreter(modelBuffer)) {\n",
        "    // Restore the weights from the checkpoint file.\n",
        "\n",
        "    int NUM_TESTS = 10;\n",
        "    FloatBuffer testImages = FloatBuffer.allocateDirect(NUM_TESTS * 28 * 28).order(ByteOrder.nativeOrder());\n",
        "    FloatBuffer output = FloatBuffer.allocateDirect(NUM_TESTS * 10).order(ByteOrder.nativeOrder());\n",
        "\n",
        "    // Fill the test data.\n",
        "\n",
        "    // Run the inference.\n",
        "    Map\u003cString, Object\u003e inputs = new HashMap\u003c\u003e();\n",
        "    inputs.put(\"x\", testImages.rewind());\n",
        "    Map\u003cString, Object\u003e outputs = new HashMap\u003c\u003e();\n",
        "    outputs.put(\"output\", output);\n",
        "    anotherInterpreter.runSignature(inputs, outputs, \"infer\");\n",
        "    output.rewind();\n",
        "\n",
        "    // Process the result to get the final category values.\n",
        "    int[] testLabels = new int[NUM_TESTS];\n",
        "    for (int i = 0; i \u003c NUM_TESTS; ++i) {\n",
        "        int index = 0;\n",
        "        for (int j = 1; j \u003c 10; ++j) {\n",
        "            if (output.get(i * 10 + index) \u003c output.get(i * 10 + j) index = testLabels[j];\n",
        "        }\n",
        "        testLabels[i] = index;\n",
        "    }\n",
        "}\n",
        "```"
      ]
    },
    {
      "cell_type": "markdown",
      "metadata": {
        "id": "cznoIDphGPEg"
      },
      "source": [
        "Congratulations! You now have built a TensorFlow Lite model that supports on-device training. For more coding details, check out the example implementation in the [model personalization demo app](https://github.com/tensorflow/examples/tree/master/lite/examples/model_personalization).\n",
        "\n",
        "If you are interested in learning more about image classification, check [Keras classification tutorial](https://www.tensorflow.org/tutorials/keras/classification) in the TensorFlow official guide page. This tutorial is based on that exercise and provides more depth on the subject of classification.\n"
      ]
    }
  ],
  "metadata": {
    "colab": {
      "collapsed_sections": [],
      "name": "overview.ipynb",
      "provenance": [],
      "toc_visible": true
    },
    "kernelspec": {
      "display_name": "Python 3",
      "name": "python3"
    }
  },
  "nbformat": 4,
  "nbformat_minor": 0
}
